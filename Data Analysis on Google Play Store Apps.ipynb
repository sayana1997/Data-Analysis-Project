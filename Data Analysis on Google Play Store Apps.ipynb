{
 "cells": [
  {
   "cell_type": "markdown",
   "id": "84d00e7a",
   "metadata": {},
   "source": [
    "First step is to Import the required packages for Data Analysis"
   ]
  },
  {
   "cell_type": "code",
   "execution_count": 103,
   "id": "8ac74ddf",
   "metadata": {},
   "outputs": [],
   "source": [
    "import pandas as pd\n",
    "import numpy as np\n",
    "import matplotlib.pyplot as plt\n",
    "import seaborn as sns"
   ]
  },
  {
   "cell_type": "code",
   "execution_count": 104,
   "id": "c1afdff2",
   "metadata": {},
   "outputs": [],
   "source": [
    "import warnings\n",
    "warnings.filterwarnings('ignore')"
   ]
  },
  {
   "cell_type": "code",
   "execution_count": null,
   "id": "33720861",
   "metadata": {},
   "outputs": [],
   "source": []
  },
  {
   "cell_type": "markdown",
   "id": "9d951d8a",
   "metadata": {},
   "source": [
    "Second step is reading the data.\n",
    "Data of apps in the play store can be downloaded from Kaggle and save in local directory!"
   ]
  },
  {
   "cell_type": "code",
   "execution_count": 105,
   "id": "d31ce342",
   "metadata": {},
   "outputs": [
    {
     "data": {
      "text/html": [
       "<div>\n",
       "<style scoped>\n",
       "    .dataframe tbody tr th:only-of-type {\n",
       "        vertical-align: middle;\n",
       "    }\n",
       "\n",
       "    .dataframe tbody tr th {\n",
       "        vertical-align: top;\n",
       "    }\n",
       "\n",
       "    .dataframe thead th {\n",
       "        text-align: right;\n",
       "    }\n",
       "</style>\n",
       "<table border=\"1\" class=\"dataframe\">\n",
       "  <thead>\n",
       "    <tr style=\"text-align: right;\">\n",
       "      <th></th>\n",
       "      <th>App</th>\n",
       "      <th>Category</th>\n",
       "      <th>Rating</th>\n",
       "      <th>Reviews</th>\n",
       "      <th>Size</th>\n",
       "      <th>Installs</th>\n",
       "      <th>Type</th>\n",
       "      <th>Price</th>\n",
       "      <th>Content Rating</th>\n",
       "      <th>Genres</th>\n",
       "      <th>Last Updated</th>\n",
       "      <th>Current Ver</th>\n",
       "      <th>Android Ver</th>\n",
       "    </tr>\n",
       "  </thead>\n",
       "  <tbody>\n",
       "    <tr>\n",
       "      <th>0</th>\n",
       "      <td>Photo Editor &amp; Candy Camera &amp; Grid &amp; ScrapBook</td>\n",
       "      <td>ART_AND_DESIGN</td>\n",
       "      <td>4.1</td>\n",
       "      <td>159</td>\n",
       "      <td>19M</td>\n",
       "      <td>10,000+</td>\n",
       "      <td>Free</td>\n",
       "      <td>0</td>\n",
       "      <td>Everyone</td>\n",
       "      <td>Art &amp; Design</td>\n",
       "      <td>January 7, 2018</td>\n",
       "      <td>1.0.0</td>\n",
       "      <td>4.0.3 and up</td>\n",
       "    </tr>\n",
       "    <tr>\n",
       "      <th>1</th>\n",
       "      <td>Coloring book moana</td>\n",
       "      <td>ART_AND_DESIGN</td>\n",
       "      <td>3.9</td>\n",
       "      <td>967</td>\n",
       "      <td>14M</td>\n",
       "      <td>500,000+</td>\n",
       "      <td>Free</td>\n",
       "      <td>0</td>\n",
       "      <td>Everyone</td>\n",
       "      <td>Art &amp; Design;Pretend Play</td>\n",
       "      <td>January 15, 2018</td>\n",
       "      <td>2.0.0</td>\n",
       "      <td>4.0.3 and up</td>\n",
       "    </tr>\n",
       "    <tr>\n",
       "      <th>2</th>\n",
       "      <td>U Launcher Lite – FREE Live Cool Themes, Hide ...</td>\n",
       "      <td>ART_AND_DESIGN</td>\n",
       "      <td>4.7</td>\n",
       "      <td>87510</td>\n",
       "      <td>8.7M</td>\n",
       "      <td>5,000,000+</td>\n",
       "      <td>Free</td>\n",
       "      <td>0</td>\n",
       "      <td>Everyone</td>\n",
       "      <td>Art &amp; Design</td>\n",
       "      <td>August 1, 2018</td>\n",
       "      <td>1.2.4</td>\n",
       "      <td>4.0.3 and up</td>\n",
       "    </tr>\n",
       "    <tr>\n",
       "      <th>3</th>\n",
       "      <td>Sketch - Draw &amp; Paint</td>\n",
       "      <td>ART_AND_DESIGN</td>\n",
       "      <td>4.5</td>\n",
       "      <td>215644</td>\n",
       "      <td>25M</td>\n",
       "      <td>50,000,000+</td>\n",
       "      <td>Free</td>\n",
       "      <td>0</td>\n",
       "      <td>Teen</td>\n",
       "      <td>Art &amp; Design</td>\n",
       "      <td>June 8, 2018</td>\n",
       "      <td>Varies with device</td>\n",
       "      <td>4.2 and up</td>\n",
       "    </tr>\n",
       "    <tr>\n",
       "      <th>4</th>\n",
       "      <td>Pixel Draw - Number Art Coloring Book</td>\n",
       "      <td>ART_AND_DESIGN</td>\n",
       "      <td>4.3</td>\n",
       "      <td>967</td>\n",
       "      <td>2.8M</td>\n",
       "      <td>100,000+</td>\n",
       "      <td>Free</td>\n",
       "      <td>0</td>\n",
       "      <td>Everyone</td>\n",
       "      <td>Art &amp; Design;Creativity</td>\n",
       "      <td>June 20, 2018</td>\n",
       "      <td>1.1</td>\n",
       "      <td>4.4 and up</td>\n",
       "    </tr>\n",
       "  </tbody>\n",
       "</table>\n",
       "</div>"
      ],
      "text/plain": [
       "                                                 App        Category  Rating  \\\n",
       "0     Photo Editor & Candy Camera & Grid & ScrapBook  ART_AND_DESIGN     4.1   \n",
       "1                                Coloring book moana  ART_AND_DESIGN     3.9   \n",
       "2  U Launcher Lite – FREE Live Cool Themes, Hide ...  ART_AND_DESIGN     4.7   \n",
       "3                              Sketch - Draw & Paint  ART_AND_DESIGN     4.5   \n",
       "4              Pixel Draw - Number Art Coloring Book  ART_AND_DESIGN     4.3   \n",
       "\n",
       "  Reviews  Size     Installs  Type Price Content Rating  \\\n",
       "0     159   19M      10,000+  Free     0       Everyone   \n",
       "1     967   14M     500,000+  Free     0       Everyone   \n",
       "2   87510  8.7M   5,000,000+  Free     0       Everyone   \n",
       "3  215644   25M  50,000,000+  Free     0           Teen   \n",
       "4     967  2.8M     100,000+  Free     0       Everyone   \n",
       "\n",
       "                      Genres      Last Updated         Current Ver  \\\n",
       "0               Art & Design   January 7, 2018               1.0.0   \n",
       "1  Art & Design;Pretend Play  January 15, 2018               2.0.0   \n",
       "2               Art & Design    August 1, 2018               1.2.4   \n",
       "3               Art & Design      June 8, 2018  Varies with device   \n",
       "4    Art & Design;Creativity     June 20, 2018                 1.1   \n",
       "\n",
       "    Android Ver  \n",
       "0  4.0.3 and up  \n",
       "1  4.0.3 and up  \n",
       "2  4.0.3 and up  \n",
       "3    4.2 and up  \n",
       "4    4.4 and up  "
      ]
     },
     "execution_count": 105,
     "metadata": {},
     "output_type": "execute_result"
    }
   ],
   "source": [
    "df = pd.read_csv(\"googleplaystore.csv\")\n",
    "\n",
    "#Displaying the first five rows from data set\n",
    "df.head()"
   ]
  },
  {
   "cell_type": "code",
   "execution_count": null,
   "id": "dabe7e81",
   "metadata": {},
   "outputs": [],
   "source": []
  },
  {
   "cell_type": "markdown",
   "id": "06fd2043",
   "metadata": {},
   "source": [
    "The third step is Data Preprocessing"
   ]
  },
  {
   "cell_type": "markdown",
   "id": "2e997f2a",
   "metadata": {},
   "source": [
    "First process in Data Preprocessing is handling the NULL values in the data set"
   ]
  },
  {
   "cell_type": "code",
   "execution_count": 106,
   "id": "c464b211",
   "metadata": {},
   "outputs": [
    {
     "name": "stdout",
     "output_type": "stream",
     "text": [
      "App                  0\n",
      "Category             0\n",
      "Rating            1474\n",
      "Reviews              0\n",
      "Size                 0\n",
      "Installs             0\n",
      "Type                 1\n",
      "Price                0\n",
      "Content Rating       1\n",
      "Genres               0\n",
      "Last Updated         0\n",
      "Current Ver          8\n",
      "Android Ver          3\n",
      "dtype: int64\n"
     ]
    }
   ],
   "source": [
    "print(df.isnull().sum())\n",
    "\n",
    "#Dropping Rows with Null values\n",
    "df.dropna(inplace=True) "
   ]
  },
  {
   "cell_type": "code",
   "execution_count": 107,
   "id": "a68b6a46",
   "metadata": {},
   "outputs": [],
   "source": [
    "#There are 1474 NULL values in Rating, 1 in Type, 1 in Content Rating, 8 in Current Ver and 3 in Android Ver"
   ]
  },
  {
   "cell_type": "code",
   "execution_count": 108,
   "id": "02667d62",
   "metadata": {},
   "outputs": [],
   "source": [
    "# We have to remove the Duplicate entries\n",
    "df.drop_duplicates(inplace=True)"
   ]
  },
  {
   "cell_type": "code",
   "execution_count": 109,
   "id": "433ef622",
   "metadata": {},
   "outputs": [
    {
     "data": {
      "text/plain": [
       "(8886, 13)"
      ]
     },
     "execution_count": 109,
     "metadata": {},
     "output_type": "execute_result"
    }
   ],
   "source": [
    "df.shape"
   ]
  },
  {
   "cell_type": "code",
   "execution_count": 110,
   "id": "7246646c",
   "metadata": {},
   "outputs": [],
   "source": [
    "#We have 8886 apps to analyze after removing the rows with Null values and the duplicate entries!"
   ]
  },
  {
   "cell_type": "markdown",
   "id": "46578121",
   "metadata": {},
   "source": [
    "Second step in the Data Preprocessing is to handle the Data Types of each Feature"
   ]
  },
  {
   "cell_type": "markdown",
   "id": "5c63d9d8",
   "metadata": {},
   "source": [
    "The type of some features can be in different formats, so data types has to be changed to a proper format which can be used for analysis."
   ]
  },
  {
   "cell_type": "code",
   "execution_count": 111,
   "id": "657d097c",
   "metadata": {},
   "outputs": [
    {
     "data": {
      "text/plain": [
       "App                object\n",
       "Category           object\n",
       "Rating            float64\n",
       "Reviews            object\n",
       "Size               object\n",
       "Installs           object\n",
       "Type               object\n",
       "Price              object\n",
       "Content Rating     object\n",
       "Genres             object\n",
       "Last Updated       object\n",
       "Current Ver        object\n",
       "Android Ver        object\n",
       "dtype: object"
      ]
     },
     "execution_count": 111,
     "metadata": {},
     "output_type": "execute_result"
    }
   ],
   "source": [
    "# Displaying Data types of each feature\n",
    "df.dtypes "
   ]
  },
  {
   "cell_type": "markdown",
   "id": "18932d6d",
   "metadata": {},
   "source": [
    "The feature Reviews is of type object, but it should be of numerical type. So we have to change the type"
   ]
  },
  {
   "cell_type": "code",
   "execution_count": 112,
   "id": "57b682a7",
   "metadata": {},
   "outputs": [],
   "source": [
    "#Changing to int type.\n",
    "df.Reviews = df.Reviews.astype('int64') "
   ]
  },
  {
   "cell_type": "markdown",
   "id": "f462e8bc",
   "metadata": {},
   "source": [
    "Apart from Reviews, other Features like Price,Android,Installs and Size Vers also must be of numeric type.\n",
    "The values that the Features are holding now should be changed to the proper format to use them for analysis and plots."
   ]
  },
  {
   "cell_type": "markdown",
   "id": "2ec21e2d",
   "metadata": {},
   "source": [
    "Changing the Feature : Installs"
   ]
  },
  {
   "cell_type": "code",
   "execution_count": 113,
   "id": "4ff70e42",
   "metadata": {},
   "outputs": [
    {
     "data": {
      "text/plain": [
       "0       10000.0\n",
       "1      500000.0\n",
       "2     5000000.0\n",
       "3    50000000.0\n",
       "4      100000.0\n",
       "Name: Installs, dtype: float64"
      ]
     },
     "execution_count": 113,
     "metadata": {},
     "output_type": "execute_result"
    }
   ],
   "source": [
    "newInstalls = []\n",
    "\n",
    "for row in df.Installs:\n",
    "    \n",
    "    row = row[:-1]\n",
    "    newRow = row.replace(\",\", \"\")\n",
    "    newInstalls.append(float(newRow))\n",
    "    \n",
    "\n",
    "df.Installs = newInstalls\n",
    "\n",
    "df.Installs.head()"
   ]
  },
  {
   "cell_type": "markdown",
   "id": "d8cf21c8",
   "metadata": {},
   "source": [
    "Changing the feature : Size"
   ]
  },
  {
   "cell_type": "code",
   "execution_count": 114,
   "id": "a8b305f4",
   "metadata": {},
   "outputs": [
    {
     "data": {
      "text/plain": [
       "0    19.0\n",
       "1    14.0\n",
       "2     8.7\n",
       "3    25.0\n",
       "4     2.8\n",
       "Name: Size, dtype: float64"
      ]
     },
     "execution_count": 114,
     "metadata": {},
     "output_type": "execute_result"
    }
   ],
   "source": [
    "newSize = []\n",
    "\n",
    "for row in df.Size:\n",
    "    newrow = row[:-1]\n",
    "    try:\n",
    "        newSize.append(float(newrow))\n",
    "    except:\n",
    "        newSize.append(0) #When it says - Size Varies.\n",
    "    \n",
    "df.Size = newSize\n",
    "\n",
    "df.Size.head()"
   ]
  },
  {
   "cell_type": "markdown",
   "id": "5bef50d6",
   "metadata": {},
   "source": [
    "Changing the feature, Price"
   ]
  },
  {
   "cell_type": "code",
   "execution_count": 115,
   "id": "0c09f9c9",
   "metadata": {},
   "outputs": [
    {
     "data": {
      "text/plain": [
       "0    0.0\n",
       "1    0.0\n",
       "2    0.0\n",
       "3    0.0\n",
       "4    0.0\n",
       "Name: Price, dtype: float64"
      ]
     },
     "execution_count": 115,
     "metadata": {},
     "output_type": "execute_result"
    }
   ],
   "source": [
    "newPrice = []\n",
    "\n",
    "for row in df.Price:\n",
    "    if row!= \"0\":\n",
    "        newrow = float(row[1:])\n",
    "    else:\n",
    "        newrow = 0 \n",
    "        \n",
    "    newPrice.append(newrow)\n",
    "        \n",
    "df.Price = newPrice\n",
    "\n",
    "df.Price.head()"
   ]
  },
  {
   "cell_type": "markdown",
   "id": "ab0ac4fb",
   "metadata": {},
   "source": [
    "Changing the feature, Android Ver"
   ]
  },
  {
   "cell_type": "code",
   "execution_count": 116,
   "id": "3393c35f",
   "metadata": {},
   "outputs": [
    {
     "data": {
      "text/plain": [
       "4.0    5602\n",
       "0.0    1178\n",
       "2.0    1160\n",
       "5.0     500\n",
       "3.0     246\n",
       "1.0     104\n",
       "6.0      46\n",
       "7.0      45\n",
       "8.0       5\n",
       "Name: Android Ver, dtype: int64"
      ]
     },
     "execution_count": 116,
     "metadata": {},
     "output_type": "execute_result"
    }
   ],
   "source": [
    "newVer = []\n",
    "\n",
    "for row in df['Android Ver']:\n",
    "    try:\n",
    "        newrow = float(row[:2])\n",
    "    except:\n",
    "        newrow = 0  # When the value is - Varies with device\n",
    "    \n",
    "    newVer.append(newrow)\n",
    "    \n",
    "df['Android Ver'] =  newVer\n",
    "\n",
    "df['Android Ver'].value_counts()"
   ]
  },
  {
   "cell_type": "code",
   "execution_count": null,
   "id": "bd39ec59",
   "metadata": {},
   "outputs": [],
   "source": []
  },
  {
   "cell_type": "markdown",
   "id": "c688a5cd",
   "metadata": {},
   "source": [
    "The fourth step is Analyzing Features"
   ]
  },
  {
   "cell_type": "markdown",
   "id": "3c257e39",
   "metadata": {},
   "source": [
    "Categories"
   ]
  },
  {
   "cell_type": "code",
   "execution_count": 117,
   "id": "ae2c52b9",
   "metadata": {},
   "outputs": [],
   "source": [
    "#Displaying all the categories and their counts."
   ]
  },
  {
   "cell_type": "code",
   "execution_count": 118,
   "id": "305a7c37",
   "metadata": {},
   "outputs": [
    {
     "data": {
      "text/plain": [
       "FAMILY                 1717\n",
       "GAME                   1074\n",
       "TOOLS                   733\n",
       "PRODUCTIVITY            334\n",
       "FINANCE                 317\n",
       "PERSONALIZATION         308\n",
       "COMMUNICATION           307\n",
       "LIFESTYLE               305\n",
       "PHOTOGRAPHY             304\n",
       "MEDICAL                 302\n",
       "SPORTS                  286\n",
       "BUSINESS                270\n",
       "HEALTH_AND_FITNESS      262\n",
       "SOCIAL                  244\n",
       "NEWS_AND_MAGAZINES      214\n",
       "TRAVEL_AND_LOCAL        205\n",
       "SHOPPING                202\n",
       "BOOKS_AND_REFERENCE     177\n",
       "VIDEO_PLAYERS           160\n",
       "DATING                  159\n",
       "EDUCATION               129\n",
       "MAPS_AND_NAVIGATION     124\n",
       "ENTERTAINMENT           111\n",
       "FOOD_AND_DRINK          106\n",
       "WEATHER                  75\n",
       "AUTO_AND_VEHICLES        73\n",
       "HOUSE_AND_HOME           68\n",
       "LIBRARIES_AND_DEMO       64\n",
       "ART_AND_DESIGN           61\n",
       "COMICS                   58\n",
       "PARENTING                50\n",
       "EVENTS                   45\n",
       "BEAUTY                   42\n",
       "Name: Category, dtype: int64"
      ]
     },
     "execution_count": 118,
     "metadata": {},
     "output_type": "execute_result"
    }
   ],
   "source": [
    "df.Category.value_counts() "
   ]
  },
  {
   "cell_type": "code",
   "execution_count": 119,
   "id": "795d93b7",
   "metadata": {},
   "outputs": [
    {
     "data": {
      "text/plain": [
       "<AxesSubplot:>"
      ]
     },
     "execution_count": 119,
     "metadata": {},
     "output_type": "execute_result"
    },
    {
     "data": {
      "image/png": "[encoded data removed]",
      "text/plain": [
       "<Figure size 864x576 with 1 Axes>"
      ]
     },
     "metadata": {
      "needs_background": "light"
     },
     "output_type": "display_data"
    }
   ],
   "source": [
    "df.Category.value_counts().plot(kind='barh',figsize= (12,8))"
   ]
  },
  {
   "cell_type": "code",
   "execution_count": 120,
   "id": "ad64c9e2",
   "metadata": {},
   "outputs": [],
   "source": [
    "#Insight : The Game and Family Category has the maximum number of Apps "
   ]
  },
  {
   "cell_type": "markdown",
   "id": "c13ebc9b",
   "metadata": {},
   "source": [
    "Rating"
   ]
  },
  {
   "cell_type": "code",
   "execution_count": 121,
   "id": "342ea066",
   "metadata": {},
   "outputs": [
    {
     "data": {
      "text/plain": [
       "count    8886.000000\n",
       "mean        4.187959\n",
       "std         0.522428\n",
       "min         1.000000\n",
       "25%         4.000000\n",
       "50%         4.300000\n",
       "75%         4.500000\n",
       "max         5.000000\n",
       "Name: Rating, dtype: float64"
      ]
     },
     "execution_count": 121,
     "metadata": {},
     "output_type": "execute_result"
    }
   ],
   "source": [
    "df.Rating.describe()"
   ]
  },
  {
   "cell_type": "markdown",
   "id": "f56f9509",
   "metadata": {},
   "source": [
    "'Rating' - Distribution Plot"
   ]
  },
  {
   "cell_type": "code",
   "execution_count": 122,
   "id": "c0a63e04",
   "metadata": {},
   "outputs": [
    {
     "data": {
      "text/plain": [
       "<AxesSubplot:xlabel='Rating', ylabel='Density'>"
      ]
     },
     "execution_count": 122,
     "metadata": {},
     "output_type": "execute_result"
    },
    {
     "data": {
      "image/png": "[encoded data removed]",
      "text/plain": [
       "<Figure size 432x288 with 1 Axes>"
      ]
     },
     "metadata": {
      "needs_background": "light"
     },
     "output_type": "display_data"
    }
   ],
   "source": [
    "sns.distplot(df.Rating)"
   ]
  },
  {
   "cell_type": "code",
   "execution_count": 123,
   "id": "4bff35a5",
   "metadata": {},
   "outputs": [],
   "source": [
    "#Insight : Most of the apps have a rating above 4.0, And a lot of them seems to have 5.0 rating."
   ]
  },
  {
   "cell_type": "code",
   "execution_count": 124,
   "id": "2abd956f",
   "metadata": {},
   "outputs": [
    {
     "name": "stdout",
     "output_type": "stream",
     "text": [
      "No. of Apps with full ratings:  271\n"
     ]
    }
   ],
   "source": [
    "print(\"No. of Apps with full ratings: \",df.Rating[df['Rating'] == 5 ].count())"
   ]
  },
  {
   "cell_type": "markdown",
   "id": "cc2a0791",
   "metadata": {},
   "source": [
    "In the the play store total of 271 Apps hold 5.0 Ratings."
   ]
  },
  {
   "cell_type": "markdown",
   "id": "a4acf2ae",
   "metadata": {},
   "source": [
    "Reviews"
   ]
  },
  {
   "cell_type": "markdown",
   "id": "74bbfe4c",
   "metadata": {},
   "source": [
    "'Reviews' -  Distribution Plot"
   ]
  },
  {
   "cell_type": "code",
   "execution_count": 125,
   "id": "f3516cb8",
   "metadata": {},
   "outputs": [
    {
     "data": {
      "text/plain": [
       "<AxesSubplot:xlabel='Reviews', ylabel='Density'>"
      ]
     },
     "execution_count": 125,
     "metadata": {},
     "output_type": "execute_result"
    },
    {
     "data": {
      "image/png": "[encoded data removed]",
      "text/plain": [
       "<Figure size 720x360 with 1 Axes>"
      ]
     },
     "metadata": {
      "needs_background": "light"
     },
     "output_type": "display_data"
    }
   ],
   "source": [
    "plt.figure(figsize=(10,5))\n",
    "sns.distplot(df.Reviews)"
   ]
  },
  {
   "cell_type": "code",
   "execution_count": 126,
   "id": "d912c0ef",
   "metadata": {},
   "outputs": [],
   "source": [
    "#Get the list of apps which have good Reviews"
   ]
  },
  {
   "cell_type": "code",
   "execution_count": 127,
   "id": "62ebf182",
   "metadata": {},
   "outputs": [
    {
     "data": {
      "text/html": [
       "<div>\n",
       "<style scoped>\n",
       "    .dataframe tbody tr th:only-of-type {\n",
       "        vertical-align: middle;\n",
       "    }\n",
       "\n",
       "    .dataframe tbody tr th {\n",
       "        vertical-align: top;\n",
       "    }\n",
       "\n",
       "    .dataframe thead th {\n",
       "        text-align: right;\n",
       "    }\n",
       "</style>\n",
       "<table border=\"1\" class=\"dataframe\">\n",
       "  <thead>\n",
       "    <tr style=\"text-align: right;\">\n",
       "      <th></th>\n",
       "      <th>App</th>\n",
       "      <th>Category</th>\n",
       "      <th>Rating</th>\n",
       "      <th>Reviews</th>\n",
       "      <th>Size</th>\n",
       "      <th>Installs</th>\n",
       "      <th>Type</th>\n",
       "      <th>Price</th>\n",
       "      <th>Content Rating</th>\n",
       "      <th>Genres</th>\n",
       "      <th>Last Updated</th>\n",
       "      <th>Current Ver</th>\n",
       "      <th>Android Ver</th>\n",
       "    </tr>\n",
       "  </thead>\n",
       "  <tbody>\n",
       "    <tr>\n",
       "      <th>335</th>\n",
       "      <td>Messenger – Text and Video Chat for Free</td>\n",
       "      <td>COMMUNICATION</td>\n",
       "      <td>4.0</td>\n",
       "      <td>56642847</td>\n",
       "      <td>0.0</td>\n",
       "      <td>1.000000e+09</td>\n",
       "      <td>Free</td>\n",
       "      <td>0.0</td>\n",
       "      <td>Everyone</td>\n",
       "      <td>Communication</td>\n",
       "      <td>August 1, 2018</td>\n",
       "      <td>Varies with device</td>\n",
       "      <td>0.0</td>\n",
       "    </tr>\n",
       "    <tr>\n",
       "      <th>336</th>\n",
       "      <td>WhatsApp Messenger</td>\n",
       "      <td>COMMUNICATION</td>\n",
       "      <td>4.4</td>\n",
       "      <td>69119316</td>\n",
       "      <td>0.0</td>\n",
       "      <td>1.000000e+09</td>\n",
       "      <td>Free</td>\n",
       "      <td>0.0</td>\n",
       "      <td>Everyone</td>\n",
       "      <td>Communication</td>\n",
       "      <td>August 3, 2018</td>\n",
       "      <td>Varies with device</td>\n",
       "      <td>0.0</td>\n",
       "    </tr>\n",
       "    <tr>\n",
       "      <th>382</th>\n",
       "      <td>Messenger – Text and Video Chat for Free</td>\n",
       "      <td>COMMUNICATION</td>\n",
       "      <td>4.0</td>\n",
       "      <td>56646578</td>\n",
       "      <td>0.0</td>\n",
       "      <td>1.000000e+09</td>\n",
       "      <td>Free</td>\n",
       "      <td>0.0</td>\n",
       "      <td>Everyone</td>\n",
       "      <td>Communication</td>\n",
       "      <td>August 1, 2018</td>\n",
       "      <td>Varies with device</td>\n",
       "      <td>0.0</td>\n",
       "    </tr>\n",
       "    <tr>\n",
       "      <th>1670</th>\n",
       "      <td>Clash of Clans</td>\n",
       "      <td>GAME</td>\n",
       "      <td>4.6</td>\n",
       "      <td>44891723</td>\n",
       "      <td>98.0</td>\n",
       "      <td>1.000000e+08</td>\n",
       "      <td>Free</td>\n",
       "      <td>0.0</td>\n",
       "      <td>Everyone 10+</td>\n",
       "      <td>Strategy</td>\n",
       "      <td>July 15, 2018</td>\n",
       "      <td>10.322.16</td>\n",
       "      <td>4.0</td>\n",
       "    </tr>\n",
       "    <tr>\n",
       "      <th>1879</th>\n",
       "      <td>Clash of Clans</td>\n",
       "      <td>GAME</td>\n",
       "      <td>4.6</td>\n",
       "      <td>44893888</td>\n",
       "      <td>98.0</td>\n",
       "      <td>1.000000e+08</td>\n",
       "      <td>Free</td>\n",
       "      <td>0.0</td>\n",
       "      <td>Everyone 10+</td>\n",
       "      <td>Strategy</td>\n",
       "      <td>July 15, 2018</td>\n",
       "      <td>10.322.16</td>\n",
       "      <td>4.0</td>\n",
       "    </tr>\n",
       "    <tr>\n",
       "      <th>2544</th>\n",
       "      <td>Facebook</td>\n",
       "      <td>SOCIAL</td>\n",
       "      <td>4.1</td>\n",
       "      <td>78158306</td>\n",
       "      <td>0.0</td>\n",
       "      <td>1.000000e+09</td>\n",
       "      <td>Free</td>\n",
       "      <td>0.0</td>\n",
       "      <td>Teen</td>\n",
       "      <td>Social</td>\n",
       "      <td>August 3, 2018</td>\n",
       "      <td>Varies with device</td>\n",
       "      <td>0.0</td>\n",
       "    </tr>\n",
       "    <tr>\n",
       "      <th>2545</th>\n",
       "      <td>Instagram</td>\n",
       "      <td>SOCIAL</td>\n",
       "      <td>4.5</td>\n",
       "      <td>66577313</td>\n",
       "      <td>0.0</td>\n",
       "      <td>1.000000e+09</td>\n",
       "      <td>Free</td>\n",
       "      <td>0.0</td>\n",
       "      <td>Teen</td>\n",
       "      <td>Social</td>\n",
       "      <td>July 31, 2018</td>\n",
       "      <td>Varies with device</td>\n",
       "      <td>0.0</td>\n",
       "    </tr>\n",
       "    <tr>\n",
       "      <th>2604</th>\n",
       "      <td>Instagram</td>\n",
       "      <td>SOCIAL</td>\n",
       "      <td>4.5</td>\n",
       "      <td>66577446</td>\n",
       "      <td>0.0</td>\n",
       "      <td>1.000000e+09</td>\n",
       "      <td>Free</td>\n",
       "      <td>0.0</td>\n",
       "      <td>Teen</td>\n",
       "      <td>Social</td>\n",
       "      <td>July 31, 2018</td>\n",
       "      <td>Varies with device</td>\n",
       "      <td>0.0</td>\n",
       "    </tr>\n",
       "    <tr>\n",
       "      <th>3904</th>\n",
       "      <td>WhatsApp Messenger</td>\n",
       "      <td>COMMUNICATION</td>\n",
       "      <td>4.4</td>\n",
       "      <td>69109672</td>\n",
       "      <td>0.0</td>\n",
       "      <td>1.000000e+09</td>\n",
       "      <td>Free</td>\n",
       "      <td>0.0</td>\n",
       "      <td>Everyone</td>\n",
       "      <td>Communication</td>\n",
       "      <td>August 3, 2018</td>\n",
       "      <td>Varies with device</td>\n",
       "      <td>0.0</td>\n",
       "    </tr>\n",
       "    <tr>\n",
       "      <th>3909</th>\n",
       "      <td>Instagram</td>\n",
       "      <td>SOCIAL</td>\n",
       "      <td>4.5</td>\n",
       "      <td>66509917</td>\n",
       "      <td>0.0</td>\n",
       "      <td>1.000000e+09</td>\n",
       "      <td>Free</td>\n",
       "      <td>0.0</td>\n",
       "      <td>Teen</td>\n",
       "      <td>Social</td>\n",
       "      <td>July 31, 2018</td>\n",
       "      <td>Varies with device</td>\n",
       "      <td>0.0</td>\n",
       "    </tr>\n",
       "    <tr>\n",
       "      <th>3943</th>\n",
       "      <td>Facebook</td>\n",
       "      <td>SOCIAL</td>\n",
       "      <td>4.1</td>\n",
       "      <td>78128208</td>\n",
       "      <td>0.0</td>\n",
       "      <td>1.000000e+09</td>\n",
       "      <td>Free</td>\n",
       "      <td>0.0</td>\n",
       "      <td>Teen</td>\n",
       "      <td>Social</td>\n",
       "      <td>August 3, 2018</td>\n",
       "      <td>Varies with device</td>\n",
       "      <td>0.0</td>\n",
       "    </tr>\n",
       "    <tr>\n",
       "      <th>3986</th>\n",
       "      <td>Clash of Clans</td>\n",
       "      <td>FAMILY</td>\n",
       "      <td>4.6</td>\n",
       "      <td>44881447</td>\n",
       "      <td>98.0</td>\n",
       "      <td>1.000000e+08</td>\n",
       "      <td>Free</td>\n",
       "      <td>0.0</td>\n",
       "      <td>Everyone 10+</td>\n",
       "      <td>Strategy</td>\n",
       "      <td>July 15, 2018</td>\n",
       "      <td>10.322.16</td>\n",
       "      <td>4.0</td>\n",
       "    </tr>\n",
       "    <tr>\n",
       "      <th>4005</th>\n",
       "      <td>Clean Master- Space Cleaner &amp; Antivirus</td>\n",
       "      <td>TOOLS</td>\n",
       "      <td>4.7</td>\n",
       "      <td>42916526</td>\n",
       "      <td>0.0</td>\n",
       "      <td>5.000000e+08</td>\n",
       "      <td>Free</td>\n",
       "      <td>0.0</td>\n",
       "      <td>Everyone</td>\n",
       "      <td>Tools</td>\n",
       "      <td>August 3, 2018</td>\n",
       "      <td>Varies with device</td>\n",
       "      <td>0.0</td>\n",
       "    </tr>\n",
       "  </tbody>\n",
       "</table>\n",
       "</div>"
      ],
      "text/plain": [
       "                                           App       Category  Rating  \\\n",
       "335   Messenger – Text and Video Chat for Free  COMMUNICATION     4.0   \n",
       "336                         WhatsApp Messenger  COMMUNICATION     4.4   \n",
       "382   Messenger – Text and Video Chat for Free  COMMUNICATION     4.0   \n",
       "1670                            Clash of Clans           GAME     4.6   \n",
       "1879                            Clash of Clans           GAME     4.6   \n",
       "2544                                  Facebook         SOCIAL     4.1   \n",
       "2545                                 Instagram         SOCIAL     4.5   \n",
       "2604                                 Instagram         SOCIAL     4.5   \n",
       "3904                        WhatsApp Messenger  COMMUNICATION     4.4   \n",
       "3909                                 Instagram         SOCIAL     4.5   \n",
       "3943                                  Facebook         SOCIAL     4.1   \n",
       "3986                            Clash of Clans         FAMILY     4.6   \n",
       "4005   Clean Master- Space Cleaner & Antivirus          TOOLS     4.7   \n",
       "\n",
       "       Reviews  Size      Installs  Type  Price Content Rating         Genres  \\\n",
       "335   56642847   0.0  1.000000e+09  Free    0.0       Everyone  Communication   \n",
       "336   69119316   0.0  1.000000e+09  Free    0.0       Everyone  Communication   \n",
       "382   56646578   0.0  1.000000e+09  Free    0.0       Everyone  Communication   \n",
       "1670  44891723  98.0  1.000000e+08  Free    0.0   Everyone 10+       Strategy   \n",
       "1879  44893888  98.0  1.000000e+08  Free    0.0   Everyone 10+       Strategy   \n",
       "2544  78158306   0.0  1.000000e+09  Free    0.0           Teen         Social   \n",
       "2545  66577313   0.0  1.000000e+09  Free    0.0           Teen         Social   \n",
       "2604  66577446   0.0  1.000000e+09  Free    0.0           Teen         Social   \n",
       "3904  69109672   0.0  1.000000e+09  Free    0.0       Everyone  Communication   \n",
       "3909  66509917   0.0  1.000000e+09  Free    0.0           Teen         Social   \n",
       "3943  78128208   0.0  1.000000e+09  Free    0.0           Teen         Social   \n",
       "3986  44881447  98.0  1.000000e+08  Free    0.0   Everyone 10+       Strategy   \n",
       "4005  42916526   0.0  5.000000e+08  Free    0.0       Everyone          Tools   \n",
       "\n",
       "        Last Updated         Current Ver  Android Ver  \n",
       "335   August 1, 2018  Varies with device          0.0  \n",
       "336   August 3, 2018  Varies with device          0.0  \n",
       "382   August 1, 2018  Varies with device          0.0  \n",
       "1670   July 15, 2018           10.322.16          4.0  \n",
       "1879   July 15, 2018           10.322.16          4.0  \n",
       "2544  August 3, 2018  Varies with device          0.0  \n",
       "2545   July 31, 2018  Varies with device          0.0  \n",
       "2604   July 31, 2018  Varies with device          0.0  \n",
       "3904  August 3, 2018  Varies with device          0.0  \n",
       "3909   July 31, 2018  Varies with device          0.0  \n",
       "3943  August 3, 2018  Varies with device          0.0  \n",
       "3986   July 15, 2018           10.322.16          4.0  \n",
       "4005  August 3, 2018  Varies with device          0.0  "
      ]
     },
     "execution_count": 127,
     "metadata": {},
     "output_type": "execute_result"
    }
   ],
   "source": [
    "df[df.Reviews>40000000]"
   ]
  },
  {
   "cell_type": "code",
   "execution_count": 128,
   "id": "c888cb33",
   "metadata": {},
   "outputs": [],
   "source": [
    "#Insight : The top reviewed Apps are the most famous social media apps like Instagram, WhatsApp, Facebook and Gaming app Clash of Clans."
   ]
  },
  {
   "cell_type": "markdown",
   "id": "e5ff9b01",
   "metadata": {},
   "source": [
    "Type:"
   ]
  },
  {
   "cell_type": "code",
   "execution_count": 129,
   "id": "b0fc58b3",
   "metadata": {},
   "outputs": [
    {
     "data": {
      "text/plain": [
       "([<matplotlib.patches.Wedge at 0x2d455477fa0>,\n",
       "  <matplotlib.patches.Wedge at 0x2d455483760>],\n",
       " [Text(-1.0744351676595925, 0.2357733456018803, 'Free'),\n",
       "  Text(1.0744351566222443, -0.23577339589982083, 'Paid')],\n",
       " [Text(-0.5860555459961413, 0.12860364305557104, '93.1%'),\n",
       "  Text(0.5860555399757695, -0.12860367049081134, '6.9%')])"
      ]
     },
     "execution_count": 129,
     "metadata": {},
     "output_type": "execute_result"
    },
    {
     "data": {
      "image/png": "[encoded data removed]",
      "text/plain": [
       "<Figure size 432x288 with 1 Axes>"
      ]
     },
     "metadata": {},
     "output_type": "display_data"
    }
   ],
   "source": [
    "plt.pie(df.Type.value_counts(), labels=['Free', 'Paid'], autopct='%1.1f%%')"
   ]
  },
  {
   "cell_type": "code",
   "execution_count": 130,
   "id": "65a7c217",
   "metadata": {},
   "outputs": [],
   "source": [
    "#Insight: Only 6.9% are paid apps, remaining 93.1% of the apps in the Play Store are free"
   ]
  },
  {
   "cell_type": "markdown",
   "id": "becdb145",
   "metadata": {},
   "source": [
    "Price"
   ]
  },
  {
   "cell_type": "code",
   "execution_count": 131,
   "id": "06c12319",
   "metadata": {},
   "outputs": [
    {
     "data": {
      "text/html": [
       "<div>\n",
       "<style scoped>\n",
       "    .dataframe tbody tr th:only-of-type {\n",
       "        vertical-align: middle;\n",
       "    }\n",
       "\n",
       "    .dataframe tbody tr th {\n",
       "        vertical-align: top;\n",
       "    }\n",
       "\n",
       "    .dataframe thead th {\n",
       "        text-align: right;\n",
       "    }\n",
       "</style>\n",
       "<table border=\"1\" class=\"dataframe\">\n",
       "  <thead>\n",
       "    <tr style=\"text-align: right;\">\n",
       "      <th></th>\n",
       "      <th>App</th>\n",
       "      <th>Category</th>\n",
       "      <th>Rating</th>\n",
       "      <th>Reviews</th>\n",
       "      <th>Size</th>\n",
       "      <th>Installs</th>\n",
       "      <th>Type</th>\n",
       "      <th>Price</th>\n",
       "      <th>Content Rating</th>\n",
       "      <th>Genres</th>\n",
       "      <th>Last Updated</th>\n",
       "      <th>Current Ver</th>\n",
       "      <th>Android Ver</th>\n",
       "    </tr>\n",
       "  </thead>\n",
       "  <tbody>\n",
       "    <tr>\n",
       "      <th>4367</th>\n",
       "      <td>I'm Rich - Trump Edition</td>\n",
       "      <td>LIFESTYLE</td>\n",
       "      <td>3.6</td>\n",
       "      <td>275</td>\n",
       "      <td>7.3</td>\n",
       "      <td>10000.0</td>\n",
       "      <td>Paid</td>\n",
       "      <td>400.0</td>\n",
       "      <td>Everyone</td>\n",
       "      <td>Lifestyle</td>\n",
       "      <td>May 3, 2018</td>\n",
       "      <td>1.0.1</td>\n",
       "      <td>4.0</td>\n",
       "    </tr>\n",
       "  </tbody>\n",
       "</table>\n",
       "</div>"
      ],
      "text/plain": [
       "                           App   Category  Rating  Reviews  Size  Installs  \\\n",
       "4367  I'm Rich - Trump Edition  LIFESTYLE     3.6      275   7.3   10000.0   \n",
       "\n",
       "      Type  Price Content Rating     Genres Last Updated Current Ver  \\\n",
       "4367  Paid  400.0       Everyone  Lifestyle  May 3, 2018       1.0.1   \n",
       "\n",
       "      Android Ver  \n",
       "4367          4.0  "
      ]
     },
     "execution_count": 131,
     "metadata": {},
     "output_type": "execute_result"
    }
   ],
   "source": [
    "df[df.Price == df.Price.max()]"
   ]
  },
  {
   "cell_type": "code",
   "execution_count": 132,
   "id": "329352fd",
   "metadata": {},
   "outputs": [],
   "source": [
    "#Insight : I'm Rich - Trump Edition is the most costly App in the Store. The Price is 400 Dollars"
   ]
  },
  {
   "cell_type": "markdown",
   "id": "ddf2b37b",
   "metadata": {},
   "source": [
    "Android Version"
   ]
  },
  {
   "cell_type": "code",
   "execution_count": 133,
   "id": "fee12ccd",
   "metadata": {},
   "outputs": [
    {
     "data": {
      "text/plain": [
       "4.0    5602\n",
       "0.0    1178\n",
       "2.0    1160\n",
       "5.0     500\n",
       "3.0     246\n",
       "1.0     104\n",
       "6.0      46\n",
       "7.0      45\n",
       "8.0       5\n",
       "Name: Android Ver, dtype: int64"
      ]
     },
     "execution_count": 133,
     "metadata": {},
     "output_type": "execute_result"
    }
   ],
   "source": [
    "df['Android Ver'].value_counts()"
   ]
  },
  {
   "cell_type": "markdown",
   "id": "5b305c79",
   "metadata": {},
   "source": [
    "Count Plot for the various Versions"
   ]
  },
  {
   "cell_type": "code",
   "execution_count": 134,
   "id": "d9ac3364",
   "metadata": {},
   "outputs": [
    {
     "data": {
      "text/plain": [
       "<AxesSubplot:xlabel='Android Ver', ylabel='count'>"
      ]
     },
     "execution_count": 134,
     "metadata": {},
     "output_type": "execute_result"
    },
    {
     "data": {
      "image/png": "[encoded data removed]",
      "text/plain": [
       "<Figure size 432x288 with 1 Axes>"
      ]
     },
     "metadata": {
      "needs_background": "light"
     },
     "output_type": "display_data"
    }
   ],
   "source": [
    "sns.countplot(df['Android Ver'])"
   ]
  },
  {
   "cell_type": "code",
   "execution_count": 135,
   "id": "2d004674",
   "metadata": {},
   "outputs": [],
   "source": [
    "#Insight : Most of the apps in the store support Android version 4.0 and above."
   ]
  },
  {
   "cell_type": "code",
   "execution_count": null,
   "id": "7159682a",
   "metadata": {},
   "outputs": [],
   "source": []
  },
  {
   "cell_type": "markdown",
   "id": "9e6af17d",
   "metadata": {},
   "source": [
    "Furthur Analysis on Play store apps"
   ]
  },
  {
   "cell_type": "markdown",
   "id": "d739cb0b",
   "metadata": {},
   "source": [
    "Looking at the Apps with a rating of 5.0:"
   ]
  },
  {
   "cell_type": "code",
   "execution_count": 136,
   "id": "8c60dcc7",
   "metadata": {},
   "outputs": [
    {
     "data": {
      "text/html": [
       "<div>\n",
       "<style scoped>\n",
       "    .dataframe tbody tr th:only-of-type {\n",
       "        vertical-align: middle;\n",
       "    }\n",
       "\n",
       "    .dataframe tbody tr th {\n",
       "        vertical-align: top;\n",
       "    }\n",
       "\n",
       "    .dataframe thead th {\n",
       "        text-align: right;\n",
       "    }\n",
       "</style>\n",
       "<table border=\"1\" class=\"dataframe\">\n",
       "  <thead>\n",
       "    <tr style=\"text-align: right;\">\n",
       "      <th></th>\n",
       "      <th>App</th>\n",
       "      <th>Category</th>\n",
       "      <th>Rating</th>\n",
       "      <th>Reviews</th>\n",
       "      <th>Size</th>\n",
       "      <th>Installs</th>\n",
       "      <th>Type</th>\n",
       "      <th>Price</th>\n",
       "      <th>Content Rating</th>\n",
       "      <th>Genres</th>\n",
       "      <th>Last Updated</th>\n",
       "      <th>Current Ver</th>\n",
       "      <th>Android Ver</th>\n",
       "    </tr>\n",
       "  </thead>\n",
       "  <tbody>\n",
       "    <tr>\n",
       "      <th>329</th>\n",
       "      <td>Hojiboy Tojiboyev Life Hacks</td>\n",
       "      <td>COMICS</td>\n",
       "      <td>5.0</td>\n",
       "      <td>15</td>\n",
       "      <td>37.0</td>\n",
       "      <td>1000.0</td>\n",
       "      <td>Free</td>\n",
       "      <td>0.0</td>\n",
       "      <td>Everyone</td>\n",
       "      <td>Comics</td>\n",
       "      <td>June 26, 2018</td>\n",
       "      <td>2.0</td>\n",
       "      <td>4.0</td>\n",
       "    </tr>\n",
       "    <tr>\n",
       "      <th>612</th>\n",
       "      <td>American Girls Mobile Numbers</td>\n",
       "      <td>DATING</td>\n",
       "      <td>5.0</td>\n",
       "      <td>5</td>\n",
       "      <td>4.4</td>\n",
       "      <td>1000.0</td>\n",
       "      <td>Free</td>\n",
       "      <td>0.0</td>\n",
       "      <td>Mature 17+</td>\n",
       "      <td>Dating</td>\n",
       "      <td>July 17, 2018</td>\n",
       "      <td>3.0</td>\n",
       "      <td>4.0</td>\n",
       "    </tr>\n",
       "    <tr>\n",
       "      <th>615</th>\n",
       "      <td>Awake Dating</td>\n",
       "      <td>DATING</td>\n",
       "      <td>5.0</td>\n",
       "      <td>2</td>\n",
       "      <td>70.0</td>\n",
       "      <td>100.0</td>\n",
       "      <td>Free</td>\n",
       "      <td>0.0</td>\n",
       "      <td>Mature 17+</td>\n",
       "      <td>Dating</td>\n",
       "      <td>July 24, 2018</td>\n",
       "      <td>2.2.9</td>\n",
       "      <td>4.0</td>\n",
       "    </tr>\n",
       "    <tr>\n",
       "      <th>633</th>\n",
       "      <td>Spine- The dating app</td>\n",
       "      <td>DATING</td>\n",
       "      <td>5.0</td>\n",
       "      <td>5</td>\n",
       "      <td>9.3</td>\n",
       "      <td>500.0</td>\n",
       "      <td>Free</td>\n",
       "      <td>0.0</td>\n",
       "      <td>Teen</td>\n",
       "      <td>Dating</td>\n",
       "      <td>July 14, 2018</td>\n",
       "      <td>4.0</td>\n",
       "      <td>4.0</td>\n",
       "    </tr>\n",
       "    <tr>\n",
       "      <th>636</th>\n",
       "      <td>Girls Live Talk - Free Text and Video Chat</td>\n",
       "      <td>DATING</td>\n",
       "      <td>5.0</td>\n",
       "      <td>6</td>\n",
       "      <td>5.0</td>\n",
       "      <td>100.0</td>\n",
       "      <td>Free</td>\n",
       "      <td>0.0</td>\n",
       "      <td>Mature 17+</td>\n",
       "      <td>Dating</td>\n",
       "      <td>August 1, 2018</td>\n",
       "      <td>8.2</td>\n",
       "      <td>4.0</td>\n",
       "    </tr>\n",
       "  </tbody>\n",
       "</table>\n",
       "</div>"
      ],
      "text/plain": [
       "                                            App Category  Rating  Reviews  \\\n",
       "329                Hojiboy Tojiboyev Life Hacks   COMICS     5.0       15   \n",
       "612               American Girls Mobile Numbers   DATING     5.0        5   \n",
       "615                                Awake Dating   DATING     5.0        2   \n",
       "633                       Spine- The dating app   DATING     5.0        5   \n",
       "636  Girls Live Talk - Free Text and Video Chat   DATING     5.0        6   \n",
       "\n",
       "     Size  Installs  Type  Price Content Rating  Genres    Last Updated  \\\n",
       "329  37.0    1000.0  Free    0.0       Everyone  Comics   June 26, 2018   \n",
       "612   4.4    1000.0  Free    0.0     Mature 17+  Dating   July 17, 2018   \n",
       "615  70.0     100.0  Free    0.0     Mature 17+  Dating   July 24, 2018   \n",
       "633   9.3     500.0  Free    0.0           Teen  Dating   July 14, 2018   \n",
       "636   5.0     100.0  Free    0.0     Mature 17+  Dating  August 1, 2018   \n",
       "\n",
       "    Current Ver  Android Ver  \n",
       "329         2.0          4.0  \n",
       "612         3.0          4.0  \n",
       "615       2.2.9          4.0  \n",
       "633         4.0          4.0  \n",
       "636         8.2          4.0  "
      ]
     },
     "execution_count": 136,
     "metadata": {},
     "output_type": "execute_result"
    }
   ],
   "source": [
    "df_full = df[df.Rating == 5]\n",
    "\n",
    "df_full.head()"
   ]
  },
  {
   "cell_type": "markdown",
   "id": "86539cd6",
   "metadata": {},
   "source": [
    "Distribution plot - 'Installs' of Apps with a rating of 5.0"
   ]
  },
  {
   "cell_type": "code",
   "execution_count": 137,
   "id": "cd5802e7",
   "metadata": {},
   "outputs": [
    {
     "data": {
      "text/plain": [
       "<AxesSubplot:xlabel='Installs', ylabel='Density'>"
      ]
     },
     "execution_count": 137,
     "metadata": {},
     "output_type": "execute_result"
    },
    {
     "data": {
      "image/png": "[encoded data removed]",
      "text/plain": [
       "<Figure size 432x288 with 1 Axes>"
      ]
     },
     "metadata": {
      "needs_background": "light"
     },
     "output_type": "display_data"
    }
   ],
   "source": [
    "sns.distplot(df_full.Installs)"
   ]
  },
  {
   "cell_type": "code",
   "execution_count": 138,
   "id": "f26d1255",
   "metadata": {},
   "outputs": [
    {
     "data": {
      "text/plain": [
       "1.0          3\n",
       "5.0          8\n",
       "10.0        48\n",
       "50.0        32\n",
       "100.0      112\n",
       "500.0       27\n",
       "1000.0      37\n",
       "5000.0       3\n",
       "10000.0      1\n",
       "Name: Installs, dtype: int64"
      ]
     },
     "execution_count": 138,
     "metadata": {},
     "output_type": "execute_result"
    }
   ],
   "source": [
    "df_full.Installs.value_counts().sort_index()"
   ]
  },
  {
   "cell_type": "code",
   "execution_count": 139,
   "id": "e582e085",
   "metadata": {},
   "outputs": [],
   "source": [
    "#Insight : There are many number of Apps in the play store with full ratings but less installs. So we can not consider those apps as the best apps in the store.\n"
   ]
  },
  {
   "cell_type": "markdown",
   "id": "f66036d1",
   "metadata": {},
   "source": [
    "We will consider the Apps with 5.0 Ratings and Maximum number of downloads :"
   ]
  },
  {
   "cell_type": "code",
   "execution_count": 140,
   "id": "d92e00b9",
   "metadata": {},
   "outputs": [
    {
     "data": {
      "text/html": [
       "<div>\n",
       "<style scoped>\n",
       "    .dataframe tbody tr th:only-of-type {\n",
       "        vertical-align: middle;\n",
       "    }\n",
       "\n",
       "    .dataframe tbody tr th {\n",
       "        vertical-align: top;\n",
       "    }\n",
       "\n",
       "    .dataframe thead th {\n",
       "        text-align: right;\n",
       "    }\n",
       "</style>\n",
       "<table border=\"1\" class=\"dataframe\">\n",
       "  <thead>\n",
       "    <tr style=\"text-align: right;\">\n",
       "      <th></th>\n",
       "      <th>App</th>\n",
       "      <th>Category</th>\n",
       "      <th>Installs</th>\n",
       "    </tr>\n",
       "  </thead>\n",
       "  <tbody>\n",
       "    <tr>\n",
       "      <th>7514</th>\n",
       "      <td>CL Keyboard - Myanmar Keyboard (No Ads)</td>\n",
       "      <td>TOOLS</td>\n",
       "      <td>5000.0</td>\n",
       "    </tr>\n",
       "    <tr>\n",
       "      <th>8058</th>\n",
       "      <td>Oración CX</td>\n",
       "      <td>LIFESTYLE</td>\n",
       "      <td>5000.0</td>\n",
       "    </tr>\n",
       "    <tr>\n",
       "      <th>8260</th>\n",
       "      <td>Superheroes, Marvel, DC, Comics, TV, Movies News</td>\n",
       "      <td>COMICS</td>\n",
       "      <td>5000.0</td>\n",
       "    </tr>\n",
       "    <tr>\n",
       "      <th>9511</th>\n",
       "      <td>Ek Bander Ne Kholi Dukan</td>\n",
       "      <td>FAMILY</td>\n",
       "      <td>10000.0</td>\n",
       "    </tr>\n",
       "  </tbody>\n",
       "</table>\n",
       "</div>"
      ],
      "text/plain": [
       "                                                   App   Category  Installs\n",
       "7514           CL Keyboard - Myanmar Keyboard (No Ads)      TOOLS    5000.0\n",
       "8058                                        Oración CX  LIFESTYLE    5000.0\n",
       "8260  Superheroes, Marvel, DC, Comics, TV, Movies News     COMICS    5000.0\n",
       "9511                          Ek Bander Ne Kholi Dukan     FAMILY   10000.0"
      ]
     },
     "execution_count": 140,
     "metadata": {},
     "output_type": "execute_result"
    }
   ],
   "source": [
    "df_full_maxinstalls = df_full[df.Installs > 1000]\n",
    "\n",
    "df_full_maxinstalls[['App', 'Category', 'Installs']]"
   ]
  },
  {
   "cell_type": "markdown",
   "id": "e62a19b6",
   "metadata": {},
   "source": [
    "Checking the Number of Reviews of 5.0 Rating Apps"
   ]
  },
  {
   "cell_type": "code",
   "execution_count": 141,
   "id": "ffc2193f",
   "metadata": {},
   "outputs": [
    {
     "data": {
      "text/plain": [
       "<AxesSubplot:xlabel='Reviews', ylabel='Density'>"
      ]
     },
     "execution_count": 141,
     "metadata": {},
     "output_type": "execute_result"
    },
    {
     "data": {
      "image/png": "[encoded data removed]",
      "text/plain": [
       "<Figure size 432x288 with 1 Axes>"
      ]
     },
     "metadata": {
      "needs_background": "light"
     },
     "output_type": "display_data"
    }
   ],
   "source": [
    "sns.distplot(df_full.Reviews)"
   ]
  },
  {
   "cell_type": "markdown",
   "id": "adfcaca6",
   "metadata": {},
   "source": [
    "The above distribution is clearly skewed. \n",
    "Apps with very few reviews easily managed to get rating of 5.0 and this can be misleading.\n",
    "So we will filter out the apps with more than 30 reviews. These filtered ones based on reviews along with ratings are the apps that really matches for 5.0 rating."
   ]
  },
  {
   "cell_type": "code",
   "execution_count": 142,
   "id": "d37ad773",
   "metadata": {},
   "outputs": [],
   "source": [
    "df_full = df_full[df.Reviews > 30]"
   ]
  },
  {
   "cell_type": "code",
   "execution_count": 143,
   "id": "be508ef4",
   "metadata": {},
   "outputs": [
    {
     "name": "stdout",
     "output_type": "stream",
     "text": [
      "No. of Apps having 5.0 Rating with sufficient Reviews:  16\n"
     ]
    }
   ],
   "source": [
    "print(\"No. of Apps having 5.0 Rating with sufficient Reviews: \",df_full.App.count())"
   ]
  },
  {
   "cell_type": "code",
   "execution_count": 144,
   "id": "861a0260",
   "metadata": {},
   "outputs": [
    {
     "data": {
      "text/plain": [
       "<AxesSubplot:xlabel='Genres', ylabel='count'>"
      ]
     },
     "execution_count": 144,
     "metadata": {},
     "output_type": "execute_result"
    },
    {
     "data": {
      "image/png": "[encoded data removed]",
      "text/plain": [
       "<Figure size 864x360 with 1 Axes>"
      ]
     },
     "metadata": {
      "needs_background": "light"
     },
     "output_type": "display_data"
    }
   ],
   "source": [
    "plt.figure(figsize=(12,5))\n",
    "sns.countplot(df_full.Genres)"
   ]
  },
  {
   "cell_type": "code",
   "execution_count": 145,
   "id": "21c1b0b4",
   "metadata": {},
   "outputs": [],
   "source": [
    "#Insight : Apps related to Education and LifeStyle Genres seems to have full Ratings with sufficient number of reviews."
   ]
  },
  {
   "cell_type": "code",
   "execution_count": 146,
   "id": "3b0d5c8b",
   "metadata": {},
   "outputs": [
    {
     "data": {
      "text/plain": [
       "<AxesSubplot:xlabel='Price', ylabel='count'>"
      ]
     },
     "execution_count": 146,
     "metadata": {},
     "output_type": "execute_result"
    },
    {
     "data": {
      "image/png": "[encoded data removed]",
      "text/plain": [
       "<Figure size 432x288 with 1 Axes>"
      ]
     },
     "metadata": {
      "needs_background": "light"
     },
     "output_type": "display_data"
    }
   ],
   "source": [
    "sns.countplot(df_full.Price)"
   ]
  },
  {
   "cell_type": "code",
   "execution_count": 148,
   "id": "3b9e8079",
   "metadata": {},
   "outputs": [],
   "source": [
    "#Insight : All the Apps with a rating of 5.0 are free to install from the store !"
   ]
  },
  {
   "cell_type": "markdown",
   "id": "8cf76e8b",
   "metadata": {},
   "source": [
    "After performming an Exploratory analysis on Google Play Store Apps, we have got some meaningful insights out of it.\n",
    "\n",
    "Maximum number of apps in the store belongs to the category Family. Most of the apps hold a rating above 4.0. And the most widely used social media apps like WhatsApp, Instagram, Facebook and Gaming App Clash of clans are highest reviewed apps. More than 90% of the apps in the store are free to install. Most of the apps support android version 4.0 and above. Apps related to Education and Lifestyle have full rating good number of reviews and those apps with 5.0 rating are free to install"
   ]
  }
 ],
 "metadata": {
  "kernelspec": {
   "display_name": "Python 3 (ipykernel)",
   "language": "python",
   "name": "python3"
  },
  "language_info": {
   "codemirror_mode": {
    "name": "ipython",
    "version": 3
   },
   "file_extension": ".py",
   "mimetype": "text/x-python",
   "name": "python",
   "nbconvert_exporter": "python",
   "pygments_lexer": "ipython3",
   "version": "3.9.7"
  }
 },
 "nbformat": 4,
 "nbformat_minor": 5
}
